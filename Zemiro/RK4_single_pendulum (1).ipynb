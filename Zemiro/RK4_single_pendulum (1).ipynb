{
 "cells": [
  {
   "cell_type": "code",
   "execution_count": 14,
   "id": "34faca85-c474-46c5-a0d2-f187d7de36b2",
   "metadata": {},
   "outputs": [],
   "source": [
    "import numpy as np\n",
    "import scipy as sp\n",
    "import matplotlib.pyplot as plt\n",
    "from scipy import constants"
   ]
  },
  {
   "cell_type": "markdown",
   "id": "a3726faf-fce8-4c98-b4d2-56724ed0d511",
   "metadata": {},
   "source": [
    "$\\frac{d^{2}\\theta}{dt^{2}} = -\\frac{g}{l}sin(\\theta)$"
   ]
  },
  {
   "cell_type": "code",
   "execution_count": 152,
   "id": "a6455327-e644-4f01-840e-599593fef6c5",
   "metadata": {},
   "outputs": [],
   "source": [
    "def RK_4M(t1, x0,k,l, h):\n",
    "    \"\"\"ODE Solver for ODEs of the form dx/dt = (k/l)*x using Runge-Kutta 4th order Method. \n",
    "    Assumes that the initial condition is given at t = 0 \n",
    "       \n",
    "    Args: \n",
    "        t1: time to solve the equation up to\n",
    "        x0: starting value of x, at t = 0\n",
    "        k:  value of k in the ODE equation\n",
    "        l: length of pendulum\n",
    "        h:  step size of the method \n",
    "        \n",
    "    Returns:\n",
    "        t: An array in increments of h for the dimension of time up to t1\n",
    "        x: An array for the position coordinate at each timepoint\n",
    "    \"\"\"\n",
    "    \n",
    "    #Initialise the arrays to be used\n",
    "    # t is an array containing each of the timepoints that we will step forward to\n",
    "    t = np.arange(0,t1+h,h)\n",
    "    # n is the number of timesteps in t\n",
    "    n = np.shape(t)[0]\n",
    "    # x starts as an empty array, but we will fill in the values we calculate in the loop, below\n",
    "    x = np.zeros(n) \n",
    "    v = np.zeros(n)\n",
    "    E = np.zeros(n)\n",
    "    \n",
    "    #Set the initial value of x (i.e. x[0])\n",
    "    x[0] = x0\n",
    "    v[0]= v0\n",
    "    E[0]=  0.5 * k * x[0]**2 + 0.5 * l * v[0]**2\n",
    "    \n",
    "    #Loop over the time values and calculate the derivative\n",
    "    for i in range(1,n): \n",
    "\n",
    "        #position\n",
    "        #k1 value\n",
    "        k1=h*np.cos(v[i-1])\n",
    "        #x midpoint\n",
    "        x_m = (np.cos(v[i-1]) + (1/2)*k1)\n",
    "        #k2 value\n",
    "        k2=h*(x_m)\n",
    "        #k3 value\n",
    "        k3=(h*np.cos(v[i-1]) + (h/2)*k2) \n",
    "        #k4 value\n",
    "        k4=(h*np.cos(v[i-1]) + (h)*k3)\n",
    "        \n",
    "        #x value\n",
    "        x[i] = np.sin(x[i-1]) + (1/6)*k1 + (1/3)* k2 + (1/3) * k3 + (1/6) * k4 \n",
    "\n",
    "        #velocity\n",
    "        #k1 value\n",
    "        k1=h*(-k/l)*np.sin(x[i-1])\n",
    "        #x midpoint\n",
    "        x_m = ((-k/l)*np.sin(x[i-1]) + (1/2)*k1)\n",
    "        #k2 value\n",
    "        k2=h*(x_m)\n",
    "        #k3 value\n",
    "        k3=(h*(-k/l)*np.sin(x[i-1]) + (h/2)*k2) \n",
    "        #k4 value\n",
    "        k4=(h*(-k/l)*np.sin(x[i-1]) + (h)*k3)\n",
    "        \n",
    "        #v value\n",
    "        v[i] = np.cos(v[i-1]) + (1/6)*k1 + (1/3)* k2 + (1/3) * k3 + (1/6) * k4 \n",
    "\n",
    "         # Calculate energy at this step\n",
    "        E[i] = 0.5 * k * np.sin(x[i-1])**2 + 0.5 * l * v[i-1]**2\n",
    "    \n",
    "    \n",
    "    return(t,x,v,E) "
   ]
  },
  {
   "cell_type": "code",
   "execution_count": 160,
   "id": "fd04eaa7-5583-4a39-bb18-c184219975a3",
   "metadata": {},
   "outputs": [],
   "source": [
    "t,x,v,E=RK_4M(200,0,sp.constants.g,1,.001)"
   ]
  },
  {
   "cell_type": "code",
   "execution_count": 161,
   "id": "0939f623-d0b0-4ff5-b208-e7492e40e52d",
   "metadata": {},
   "outputs": [
    {
     "data": {
      "image/png": "[encoded data removed]",
      "text/plain": [
       "<Figure size 640x480 with 1 Axes>"
      ]
     },
     "metadata": {},
     "output_type": "display_data"
    }
   ],
   "source": [
    "plt.plot(t,x)\n",
    "plt.show()"
   ]
  },
  {
   "cell_type": "code",
   "execution_count": 159,
   "id": "52015d40-30d0-4e51-842c-18602dc608d3",
   "metadata": {},
   "outputs": [
    {
     "data": {
      "text/plain": [
       "0.16444091678981887"
      ]
     },
     "execution_count": 159,
     "metadata": {},
     "output_type": "execute_result"
    }
   ],
   "source": [
    "x[-1]"
   ]
  },
  {
   "cell_type": "code",
   "execution_count": 156,
   "id": "d6d9aa4f-e934-423a-a385-81e3b3ff7036",
   "metadata": {},
   "outputs": [
    {
     "data": {
      "text/plain": [
       "6.2631142413339385"
      ]
     },
     "execution_count": 156,
     "metadata": {},
     "output_type": "execute_result"
    }
   ],
   "source": [
    "v0=np.sqrt((4 * sp.constants.g * 1)/(1))\n",
    "v0"
   ]
  },
  {
   "cell_type": "code",
   "execution_count": null,
   "id": "4b6cea74-fa14-4f1b-a5ed-2605944f339b",
   "metadata": {},
   "outputs": [],
   "source": []
  }
 ],
 "metadata": {
  "kernelspec": {
   "display_name": "A345",
   "language": "python",
   "name": "a345"
  },
  "language_info": {
   "codemirror_mode": {
    "name": "ipython",
    "version": 3
   },
   "file_extension": ".py",
   "mimetype": "text/x-python",
   "name": "python",
   "nbconvert_exporter": "python",
   "pygments_lexer": "ipython3",
   "version": "3.9.21"
  }
 },
 "nbformat": 4,
 "nbformat_minor": 5
}
